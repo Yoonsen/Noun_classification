{
 "cells": [
  {
   "cell_type": "markdown",
   "metadata": {},
   "source": [
    "# Nouns and classification\n",
    "\n",
    "Nouns come in different shapes, and are connected a typology of reality. Some refers to living organisms, some to named entitites, some to things, concrete or abstract, some er heavily gendered, others not.\n",
    "\n",
    "Pronouns reflect some of this. Some refers to places (there), some to first persons (I, me, myself), others to things (it, that). Nouns in general can be connected to pronoun distributions. Either syntagmatic or paradigmatic. \n",
    "\n",
    "Paradigmatic. A noun that can be substituted with first person (nominative) pronouns can be viewed as being animate, and those easily substitutable with place pronouns are place nouns. \n",
    "\n",
    "Syntagmatic. Words that have pronoun in their vicinity can be classified accordingly.\n"
   ]
  },
  {
   "cell_type": "code",
   "execution_count": null,
   "metadata": {},
   "outputs": [],
   "source": []
  }
 ],
 "metadata": {
  "kernelspec": {
   "display_name": "Python 3",
   "language": "python",
   "name": "python3"
  },
  "language_info": {
   "codemirror_mode": {
    "name": "ipython",
    "version": 3
   },
   "file_extension": ".py",
   "mimetype": "text/x-python",
   "name": "python",
   "nbconvert_exporter": "python",
   "pygments_lexer": "ipython3",
   "version": "3.8.3"
  }
 },
 "nbformat": 4,
 "nbformat_minor": 4
}
