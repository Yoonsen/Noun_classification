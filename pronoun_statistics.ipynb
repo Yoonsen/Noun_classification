{
 "cells": [
  {
   "cell_type": "code",
   "execution_count": 1,
   "metadata": {},
   "outputs": [
    {
     "data": {
      "text/markdown": [
       "Updated file `C:\\Users\\larsj\\Documents\\GitHub\\Noun_classification\\dhlab_v2.py`"
      ],
      "text/plain": [
       "<IPython.core.display.Markdown object>"
      ]
     },
     "metadata": {},
     "output_type": "display_data"
    }
   ],
   "source": [
    "import dhlab.module_update as mu\n",
    "mu.update('dhlab_v2')\n",
    "import dhlab_v2 as d2"
   ]
  },
  {
   "cell_type": "code",
   "execution_count": 90,
   "metadata": {},
   "outputs": [],
   "source": [
    "corpus = d2.document_corpus(from_year = 1814, to_year = 1905, limit = 40000, doctype = 'digibok', lang = 'nob')"
   ]
  },
  {
   "cell_type": "code",
   "execution_count": 58,
   "metadata": {},
   "outputs": [],
   "source": [
    "def stat(word = None, urns = None,  stretch = 10, capital = True, samplesize = 1000):\n",
    "    d = {\n",
    "        'before': d2.urn_collocation(urns, word = word, before = stretch, after = 0, samplesize= samplesize),\n",
    "        'after': d2.urn_collocation(urns, word = word, before = 0, after = stretch, samplesize= samplesize)\n",
    "    }\n",
    "    return d"
   ]
  },
  {
   "cell_type": "code",
   "execution_count": 198,
   "metadata": {},
   "outputs": [],
   "source": [
    "pronouns = \"han hun jeg du vi de det den denne disse ham hende mig dig os dem \".split()"
   ]
  },
  {
   "cell_type": "code",
   "execution_count": 200,
   "metadata": {},
   "outputs": [],
   "source": [
    "proprium = \"Paal Henrik Ola Lars Camilla Bergljot Dagmar\".split()"
   ]
  },
  {
   "cell_type": "code",
   "execution_count": 116,
   "metadata": {},
   "outputs": [],
   "source": [
    "places = \"Christiania Bergen Bjørgvin Trondhjem Throndhjem Namsos\".split()"
   ]
  },
  {
   "cell_type": "code",
   "execution_count": 125,
   "metadata": {},
   "outputs": [],
   "source": [
    "pronoun_dict = {p: stat(word = p, urns = list(corpus.urn), samplesize = 500) for p in pronouns}"
   ]
  },
  {
   "cell_type": "code",
   "execution_count": 201,
   "metadata": {},
   "outputs": [],
   "source": [
    "proprium_dict = {p: stat(word = p, urns = list(corpus.urn), samplesize = 500) for p in proprium}"
   ]
  },
  {
   "cell_type": "code",
   "execution_count": 119,
   "metadata": {},
   "outputs": [],
   "source": [
    "place_dict = {p: stat(word = p, urns = list(corpus.urn), samplesize = 500) for p in places}"
   ]
  },
  {
   "cell_type": "code",
   "execution_count": 120,
   "metadata": {},
   "outputs": [
    {
     "data": {
      "text/html": [
       "<div>\n",
       "<style scoped>\n",
       "    .dataframe tbody tr th:only-of-type {\n",
       "        vertical-align: middle;\n",
       "    }\n",
       "\n",
       "    .dataframe tbody tr th {\n",
       "        vertical-align: top;\n",
       "    }\n",
       "\n",
       "    .dataframe thead th {\n",
       "        text-align: right;\n",
       "    }\n",
       "</style>\n",
       "<table border=\"1\" class=\"dataframe\">\n",
       "  <thead>\n",
       "    <tr style=\"text-align: right;\">\n",
       "      <th></th>\n",
       "      <th>counts</th>\n",
       "      <th>dist</th>\n",
       "      <th>bdist</th>\n",
       "    </tr>\n",
       "  </thead>\n",
       "  <tbody>\n",
       "    <tr>\n",
       "      <th>angaaende</th>\n",
       "      <td>78</td>\n",
       "      <td>147</td>\n",
       "      <td>2.087500</td>\n",
       "    </tr>\n",
       "    <tr>\n",
       "      <th>Betænkning</th>\n",
       "      <td>61</td>\n",
       "      <td>132</td>\n",
       "      <td>2.412698</td>\n",
       "    </tr>\n",
       "    <tr>\n",
       "      <th>Hole</th>\n",
       "      <td>40</td>\n",
       "      <td>98</td>\n",
       "      <td>2.809524</td>\n",
       "    </tr>\n",
       "    <tr>\n",
       "      <th>udenfor</th>\n",
       "      <td>16</td>\n",
       "      <td>31</td>\n",
       "      <td>2.833333</td>\n",
       "    </tr>\n",
       "    <tr>\n",
       "      <th>Politivesenet</th>\n",
       "      <td>12</td>\n",
       "      <td>24</td>\n",
       "      <td>3.142857</td>\n",
       "    </tr>\n",
       "    <tr>\n",
       "      <th>i</th>\n",
       "      <td>1633</td>\n",
       "      <td>5125</td>\n",
       "      <td>3.146789</td>\n",
       "    </tr>\n",
       "    <tr>\n",
       "      <th>forlod</th>\n",
       "      <td>14</td>\n",
       "      <td>31</td>\n",
       "      <td>3.187500</td>\n",
       "    </tr>\n",
       "    <tr>\n",
       "      <th>in</th>\n",
       "      <td>26</td>\n",
       "      <td>71</td>\n",
       "      <td>3.250000</td>\n",
       "    </tr>\n",
       "    <tr>\n",
       "      <th>Bibl</th>\n",
       "      <td>39</td>\n",
       "      <td>117</td>\n",
       "      <td>3.341463</td>\n",
       "    </tr>\n",
       "    <tr>\n",
       "      <th>nordfor</th>\n",
       "      <td>8</td>\n",
       "      <td>14</td>\n",
       "      <td>3.400000</td>\n",
       "    </tr>\n",
       "    <tr>\n",
       "      <th>see</th>\n",
       "      <td>13</td>\n",
       "      <td>32</td>\n",
       "      <td>3.466667</td>\n",
       "    </tr>\n",
       "    <tr>\n",
       "      <th>ved</th>\n",
       "      <td>343</td>\n",
       "      <td>1198</td>\n",
       "      <td>3.530435</td>\n",
       "    </tr>\n",
       "    <tr>\n",
       "      <th>gamle</th>\n",
       "      <td>12</td>\n",
       "      <td>30</td>\n",
       "      <td>3.571429</td>\n",
       "    </tr>\n",
       "    <tr>\n",
       "      <th>Amter</th>\n",
       "      <td>8</td>\n",
       "      <td>16</td>\n",
       "      <td>3.600000</td>\n",
       "    </tr>\n",
       "    <tr>\n",
       "      <th>Udstillingen</th>\n",
       "      <td>13</td>\n",
       "      <td>34</td>\n",
       "      <td>3.600000</td>\n",
       "    </tr>\n",
       "    <tr>\n",
       "      <th>omkring</th>\n",
       "      <td>10</td>\n",
       "      <td>24</td>\n",
       "      <td>3.666667</td>\n",
       "    </tr>\n",
       "    <tr>\n",
       "      <th>von</th>\n",
       "      <td>10</td>\n",
       "      <td>25</td>\n",
       "      <td>3.750000</td>\n",
       "    </tr>\n",
       "    <tr>\n",
       "      <th>For</th>\n",
       "      <td>9</td>\n",
       "      <td>22</td>\n",
       "      <td>3.818182</td>\n",
       "    </tr>\n",
       "    <tr>\n",
       "      <th>Ved</th>\n",
       "      <td>17</td>\n",
       "      <td>53</td>\n",
       "      <td>3.842105</td>\n",
       "    </tr>\n",
       "    <tr>\n",
       "      <th>from</th>\n",
       "      <td>14</td>\n",
       "      <td>42</td>\n",
       "      <td>3.875000</td>\n",
       "    </tr>\n",
       "  </tbody>\n",
       "</table>\n",
       "</div>"
      ],
      "text/plain": [
       "               counts  dist     bdist\n",
       "angaaende          78   147  2.087500\n",
       "Betænkning         61   132  2.412698\n",
       "Hole               40    98  2.809524\n",
       "udenfor            16    31  2.833333\n",
       "Politivesenet      12    24  3.142857\n",
       "i                1633  5125  3.146789\n",
       "forlod             14    31  3.187500\n",
       "in                 26    71  3.250000\n",
       "Bibl               39   117  3.341463\n",
       "nordfor             8    14  3.400000\n",
       "see                13    32  3.466667\n",
       "ved               343  1198  3.530435\n",
       "gamle              12    30  3.571429\n",
       "Amter               8    16  3.600000\n",
       "Udstillingen       13    34  3.600000\n",
       "omkring            10    24  3.666667\n",
       "von                10    25  3.750000\n",
       "For                 9    22  3.818182\n",
       "Ved                17    53  3.842105\n",
       "from               14    42  3.875000"
      ]
     },
     "execution_count": 120,
     "metadata": {},
     "output_type": "execute_result"
    }
   ],
   "source": [
    "place_dict['Christiania']['before'].sort_values(by = 'bdist').head(20)"
   ]
  },
  {
   "cell_type": "code",
   "execution_count": 220,
   "metadata": {},
   "outputs": [
    {
     "data": {
      "text/plain": [
       "Niels            1.0\n",
       "Keiser           2.0\n",
       "søn              3.0\n",
       "svarede          4.0\n",
       "keiser           5.0\n",
       "Hr.              6.0\n",
       "Hertug           7.0\n",
       "kong             8.0\n",
       "Herr             9.0\n",
       "Rigsadmiral     10.0\n",
       "engelske        11.0\n",
       "Kong            12.0\n",
       "sagde           13.0\n",
       "Grev            13.0\n",
       "gamle           15.0\n",
       "Broder          16.0\n",
       "Da              17.0\n",
       "spurgte         18.0\n",
       "stolt           18.0\n",
       "Feltmarskalk    20.0\n",
       "Peder           21.0\n",
       "Konge           22.0\n",
       "Om              22.0\n",
       "1.              24.0\n",
       "vor             25.0\n",
       "Spn             26.0\n",
       "Hans            27.0\n",
       "under           28.0\n",
       "b               29.0\n",
       "nemlig          30.0\n",
       "Name: bdist, dtype: float64"
      ]
     },
     "execution_count": 220,
     "metadata": {},
     "output_type": "execute_result"
    }
   ],
   "source": [
    "proprium_dict['Henrik']['before'].bdist.rank(ascending = True, method = 'min').sort_values().head(30)"
   ]
  },
  {
   "cell_type": "code",
   "execution_count": 219,
   "metadata": {},
   "outputs": [
    {
     "data": {
      "text/plain": [
       "Krummedike      1.0\n",
       "Wergeland       2.0\n",
       "Wergelands      3.0\n",
       "Ibsen           4.0\n",
       "Krummedige      5.0\n",
       "IV              6.0\n",
       "Fjerdes         7.0\n",
       "Krummedikes     8.0\n",
       "Holmsen         8.0\n",
       "Kalteisen      10.0\n",
       "Harpestreng    11.0\n",
       "Bourbon        12.0\n",
       "Spillemands    13.0\n",
       "VIII           14.0\n",
       "FjerdeZ        15.0\n",
       "Arnold         15.0\n",
       "ottende        17.0\n",
       "Krmnmedike     18.0\n",
       "Ibsens         18.0\n",
       "Holtermann     18.0\n",
       "Hansen         18.0\n",
       "Huntingdon     22.0\n",
       "Guise          23.0\n",
       "Jæger          24.0\n",
       "Carstensen     24.0\n",
       "Lorenz         24.0\n",
       "Løve           24.0\n",
       "Kalteisens     24.0\n",
       "Gnise          29.0\n",
       "den            30.0\n",
       "Name: bdist, dtype: float64"
      ]
     },
     "execution_count": 219,
     "metadata": {},
     "output_type": "execute_result"
    }
   ],
   "source": [
    "proprium_dict['Henrik']['after'].bdist.rank(ascending = True, method = 'min').sort_values().head(30)"
   ]
  },
  {
   "cell_type": "code",
   "execution_count": 197,
   "metadata": {},
   "outputs": [
    {
     "data": {
      "text/plain": [
       ".              1.0\n",
       ",              2.0\n",
       "i              3.0\n",
       "og             4.0\n",
       "til            5.0\n",
       "Søndre         6.0\n",
       "2              7.0\n",
       "Nordre         8.0\n",
       "1              9.0\n",
       ")             10.0\n",
       "Trondhjem     11.0\n",
       "15.           12.0\n",
       "Bergen        12.0\n",
       "en            14.0\n",
       "at            15.0\n",
       "-             15.0\n",
       "14.           15.0\n",
       "fra           18.0\n",
       "af            19.0\n",
       "ved           19.0\n",
       "(             21.0\n",
       "var           22.0\n",
       "Romsdal       23.0\n",
       "de            23.0\n",
       "—             25.0\n",
       "med           25.0\n",
       "som           27.0\n",
       "3             28.0\n",
       "I             29.0\n",
       "det           30.0\n",
       "the           30.0\n",
       "for           32.0\n",
       "den           32.0\n",
       "Kristiania    34.0\n",
       "der           34.0\n",
       "16.           36.0\n",
       "paa           36.0\n",
       "f             38.0\n",
       "han           39.0\n",
       "er            40.0\n",
       "jeg           40.0\n",
       "Bergenhus     40.0\n",
       "et            43.0\n",
       "4             43.0\n",
       "13.           45.0\n",
       "Committeen    45.0\n",
       "blev          45.0\n",
       "of            48.0\n",
       "Han           49.0\n",
       "om            49.0\n",
       "Name: counts, dtype: float64"
      ]
     },
     "execution_count": 197,
     "metadata": {},
     "output_type": "execute_result"
    }
   ],
   "source": [
    "place_dict['Trondhjem']['before'].counts.rank(ascending = False, method = 'min').sort_values().head(50)"
   ]
  },
  {
   "cell_type": "code",
   "execution_count": 192,
   "metadata": {},
   "outputs": [
    {
     "data": {
      "text/plain": [
       ",         1.0\n",
       ".         2.0\n",
       "og        3.0\n",
       "at        4.0\n",
       "for       5.0\n",
       "i         6.0\n",
       "det       7.0\n",
       "af        8.0\n",
       ";         9.0\n",
       "han      10.0\n",
       "ham      11.0\n",
       "den      12.0\n",
       "til      13.0\n",
       "en       14.0\n",
       "de       15.0\n",
       "med      16.0\n",
       "paa      17.0\n",
       "ikke     18.0\n",
       "der      19.0\n",
       "som      20.0\n",
       "havde    21.0\n",
       "jeg      22.0\n",
       "er       23.0\n",
       "hans     24.0\n",
       "!        25.0\n",
       "\"        26.0\n",
       "har      27.0\n",
       "Gud      28.0\n",
       "hun      29.0\n",
       "sig      30.0\n",
       "om       31.0\n",
       "var      32.0\n",
       "saa      33.0\n",
       "?        34.0\n",
       "da       35.0\n",
       ":        36.0\n",
       "et       37.0\n",
       "men      38.0\n",
       "Men      39.0\n",
       "Jeg      40.0\n",
       "fra      41.0\n",
       "efter    42.0\n",
       "Han      43.0\n",
       "Det      44.0\n",
       ")        45.0\n",
       "Da       46.0\n",
       "De       47.0\n",
       "blev     48.0\n",
       "Og       49.0\n",
       "'        50.0\n",
       "Name: counts, dtype: float64"
      ]
     },
     "execution_count": 192,
     "metadata": {},
     "output_type": "execute_result"
    }
   ],
   "source": [
    "pronoun_dict['ham']['before'].counts.rank(ascending = False).sort_values().head(50)"
   ]
  },
  {
   "cell_type": "code",
   "execution_count": 138,
   "metadata": {},
   "outputs": [],
   "source": [
    "import pandas as pd"
   ]
  },
  {
   "cell_type": "code",
   "execution_count": 153,
   "metadata": {},
   "outputs": [],
   "source": [
    "a = pd.DataFrame((han.counts/han.counts.sum())/(hun.counts/hun.counts.sum()))"
   ]
  },
  {
   "cell_type": "code",
   "execution_count": 164,
   "metadata": {},
   "outputs": [
    {
     "data": {
      "text/plain": [
       "Vertens    18522.0\n",
       "bft        18522.0\n",
       "oiiltom    18522.0\n",
       "beince     18522.0\n",
       "Capua      18522.0\n",
       "            ...   \n",
       "i          54006.0\n",
       "og         54007.0\n",
       "at         54008.0\n",
       ".          54009.0\n",
       ",          54010.0\n",
       "Name: counts, Length: 54010, dtype: float64"
      ]
     },
     "execution_count": 164,
     "metadata": {},
     "output_type": "execute_result"
    }
   ],
   "source": [
    "(han.counts*100/han.counts.sum()).rank().sort_values()"
   ]
  },
  {
   "cell_type": "code",
   "execution_count": 183,
   "metadata": {},
   "outputs": [
    {
     "data": {
      "text/plain": [
       "5.0"
      ]
     },
     "execution_count": 183,
     "metadata": {},
     "output_type": "execute_result"
    }
   ],
   "source": [
    "hun.counts.rank(ascending = False).loc['hun']"
   ]
  },
  {
   "cell_type": "code",
   "execution_count": 184,
   "metadata": {},
   "outputs": [
    {
     "data": {
      "text/plain": [
       "7.0"
      ]
     },
     "execution_count": 184,
     "metadata": {},
     "output_type": "execute_result"
    }
   ],
   "source": [
    "han.counts.rank(ascending = False).loc['han']"
   ]
  },
  {
   "cell_type": "code",
   "execution_count": 173,
   "metadata": {},
   "outputs": [],
   "source": [
    "from scipy import stats"
   ]
  },
  {
   "cell_type": "code",
   "execution_count": 180,
   "metadata": {},
   "outputs": [
    {
     "data": {
      "text/plain": [
       "WilcoxonResult(statistic=507.0, pvalue=0.2077558798692889)"
      ]
     },
     "execution_count": 180,
     "metadata": {},
     "output_type": "execute_result"
    }
   ],
   "source": [
    "stats.wilcoxon(han.counts.rank(ascending=False).head(50), y=hun.counts.rank(ascending=False).head(50), zero_method='wilcox', correction=False, alternative='two-sided', mode='auto')"
   ]
  },
  {
   "cell_type": "code",
   "execution_count": 161,
   "metadata": {},
   "outputs": [
    {
     "data": {
      "text/plain": [
       ",         11.370107\n",
       ".          4.566239\n",
       "at         2.701155\n",
       "og         2.304296\n",
       "hun        1.488616\n",
       "\"          1.351362\n",
       "i          1.203912\n",
       ";          1.048619\n",
       "det        1.047051\n",
       "en         0.832150\n",
       "til        0.830582\n",
       "hende      0.797641\n",
       "den        0.759994\n",
       "som        0.759210\n",
       "for        0.738818\n",
       "var        0.728622\n",
       "paa        0.714504\n",
       "af         0.659603\n",
       "er         0.647838\n",
       "ikke       0.639995\n",
       "havde      0.629799\n",
       "saa        0.611760\n",
       "med        0.609407\n",
       "om         0.577250\n",
       "men        0.543525\n",
       "»          0.539604\n",
       "da         0.532545\n",
       "sig        0.520780\n",
       "!          0.456467\n",
       "?          0.433722\n",
       "har        0.377252\n",
       "et         0.368625\n",
       "han        0.363919\n",
       "hendes     0.362350\n",
       "sagde      0.356860\n",
       "de         0.343527\n",
       "«          0.341958\n",
       "jeg        0.341174\n",
       "Hun        0.333331\n",
       "Men        0.323919\n",
       "sin        0.321566\n",
       "—          0.320782\n",
       "der        0.299605\n",
       "Og         0.291762\n",
       "mig        0.287057\n",
       "ham        0.286272\n",
       "hvor       0.286272\n",
       "Da         0.262743\n",
       "blev       0.256469\n",
       "hvad       0.244704\n",
       "Name: counts, dtype: float64"
      ]
     },
     "execution_count": 161,
     "metadata": {},
     "output_type": "execute_result"
    }
   ],
   "source": [
    "(hun.counts*100/hun.counts.sum()).sort_values(ascending = False).head(50)"
   ]
  },
  {
   "cell_type": "code",
   "execution_count": 186,
   "metadata": {},
   "outputs": [
    {
     "data": {
      "text/html": [
       "<style  type=\"text/css\" >\n",
       "</style><table id=\"T_87de5dc0_10a2_11ec_a1d8_a0a4c554f2a3\" ><thead>    <tr>        <th class=\"blank level0\" ></th>        <th class=\"col_heading level0 col0\" >docid</th>        <th class=\"col_heading level0 col1\" >urn</th>        <th class=\"col_heading level0 col2\" >conc</th>    </tr></thead><tbody>\n",
       "                <tr>\n",
       "                        <th id=\"T_87de5dc0_10a2_11ec_a1d8_a0a4c554f2a3level0_row0\" class=\"row_heading level0 row0\" >44257</th>\n",
       "                        <td id=\"T_87de5dc0_10a2_11ec_a1d8_a0a4c554f2a3row0_col0\" class=\"data row0 col0\" >100482654</td>\n",
       "                        <td id=\"T_87de5dc0_10a2_11ec_a1d8_a0a4c554f2a3row0_col1\" class=\"data row0 col1\" >URN:NBN:no-nb_digibok_2018010948500</td>\n",
       "                        <td id=\"T_87de5dc0_10a2_11ec_a1d8_a0a4c554f2a3row0_col2\" class=\"data row0 col2\" >... Thi jeg Horte en Rost ligesom hendes , der foder , en Angest som dens , der er i Forstefodsels Nod , Zions Dat , ' ters Rost ; <b>hun</b> stal klage... </td>\n",
       "            </tr>\n",
       "            <tr>\n",
       "                        <th id=\"T_87de5dc0_10a2_11ec_a1d8_a0a4c554f2a3level0_row1\" class=\"row_heading level0 row1\" >3711</th>\n",
       "                        <td id=\"T_87de5dc0_10a2_11ec_a1d8_a0a4c554f2a3row1_col0\" class=\"data row1 col0\" >100127669</td>\n",
       "                        <td id=\"T_87de5dc0_10a2_11ec_a1d8_a0a4c554f2a3row1_col1\" class=\"data row1 col1\" >URN:NBN:no-nb_digibok_2012112807036</td>\n",
       "                        <td id=\"T_87de5dc0_10a2_11ec_a1d8_a0a4c554f2a3row1_col2\" class=\"data row1 col2\" >... Men <b>hun</b> gav ikke tabt , men arbeidede af hjertens lyst i den sterke solhede . Endelig reiste <b>hun</b> sig op og lyttede . « Nina , Nina , » hørte <b>hun</b>... </td>\n",
       "            </tr>\n",
       "            <tr>\n",
       "                        <th id=\"T_87de5dc0_10a2_11ec_a1d8_a0a4c554f2a3level0_row2\" class=\"row_heading level0 row2\" >1244</th>\n",
       "                        <td id=\"T_87de5dc0_10a2_11ec_a1d8_a0a4c554f2a3row2_col0\" class=\"data row2 col0\" >100244655</td>\n",
       "                        <td id=\"T_87de5dc0_10a2_11ec_a1d8_a0a4c554f2a3row2_col1\" class=\"data row2 col1\" >URN:NBN:no-nb_digibok_2015032508065</td>\n",
       "                        <td id=\"T_87de5dc0_10a2_11ec_a1d8_a0a4c554f2a3row2_col2\" class=\"data row2 col2\" ><b>Hun</b></td>\n",
       "            </tr>\n",
       "            <tr>\n",
       "                        <th id=\"T_87de5dc0_10a2_11ec_a1d8_a0a4c554f2a3level0_row3\" class=\"row_heading level0 row3\" >36006</th>\n",
       "                        <td id=\"T_87de5dc0_10a2_11ec_a1d8_a0a4c554f2a3row3_col0\" class=\"data row3 col0\" >100488418</td>\n",
       "                        <td id=\"T_87de5dc0_10a2_11ec_a1d8_a0a4c554f2a3row3_col1\" class=\"data row3 col1\" >URN:NBN:no-nb_digibok_2011102524038</td>\n",
       "                        <td id=\"T_87de5dc0_10a2_11ec_a1d8_a0a4c554f2a3row3_col2\" class=\"data row3 col2\" ><b>Hun</b> havde befluttet itte at fly noget som helst Offer for dette Barns Trivsel .</td>\n",
       "            </tr>\n",
       "            <tr>\n",
       "                        <th id=\"T_87de5dc0_10a2_11ec_a1d8_a0a4c554f2a3level0_row4\" class=\"row_heading level0 row4\" >41632</th>\n",
       "                        <td id=\"T_87de5dc0_10a2_11ec_a1d8_a0a4c554f2a3row4_col0\" class=\"data row4 col0\" >100486588</td>\n",
       "                        <td id=\"T_87de5dc0_10a2_11ec_a1d8_a0a4c554f2a3row4_col1\" class=\"data row4 col1\" >URN:NBN:no-nb_digibok_2009072003008</td>\n",
       "                        <td id=\"T_87de5dc0_10a2_11ec_a1d8_a0a4c554f2a3row4_col2\" class=\"data row4 col2\" >Marion holdt sine Ame fcestede paa Gulvtceppet , medens <b>hun</b> lyttede til hende ; men hendes Tante saa undrende paa Clara , og <b>hun</b> blev synlig imponerer af... </td>\n",
       "            </tr>\n",
       "            <tr>\n",
       "                        <th id=\"T_87de5dc0_10a2_11ec_a1d8_a0a4c554f2a3level0_row5\" class=\"row_heading level0 row5\" >148</th>\n",
       "                        <td id=\"T_87de5dc0_10a2_11ec_a1d8_a0a4c554f2a3row5_col0\" class=\"data row5 col0\" >100396024</td>\n",
       "                        <td id=\"T_87de5dc0_10a2_11ec_a1d8_a0a4c554f2a3row5_col1\" class=\"data row5 col1\" >URN:NBN:no-nb_digibok_2019121748003</td>\n",
       "                        <td id=\"T_87de5dc0_10a2_11ec_a1d8_a0a4c554f2a3row5_col2\" class=\"data row5 col2\" >... nu vil sige , er just faldt mig ind nu i Øieblikket . « Jeg tror ikke , <b>hun</b> har lært noget videre , og I er begge saa flinke . »</td>\n",
       "            </tr>\n",
       "            <tr>\n",
       "                        <th id=\"T_87de5dc0_10a2_11ec_a1d8_a0a4c554f2a3level0_row6\" class=\"row_heading level0 row6\" >5772</th>\n",
       "                        <td id=\"T_87de5dc0_10a2_11ec_a1d8_a0a4c554f2a3row6_col0\" class=\"data row6 col0\" >100373314</td>\n",
       "                        <td id=\"T_87de5dc0_10a2_11ec_a1d8_a0a4c554f2a3row6_col1\" class=\"data row6 col1\" >URN:NBN:no-nb_digibok_2018051448507</td>\n",
       "                        <td id=\"T_87de5dc0_10a2_11ec_a1d8_a0a4c554f2a3row6_col2\" class=\"data row6 col2\" >... Men engang imellem gjorde <b>hun</b> en stans , og da mumlede <b>hun</b> med sit gladeste ansigt :</td>\n",
       "            </tr>\n",
       "            <tr>\n",
       "                        <th id=\"T_87de5dc0_10a2_11ec_a1d8_a0a4c554f2a3level0_row7\" class=\"row_heading level0 row7\" >42343</th>\n",
       "                        <td id=\"T_87de5dc0_10a2_11ec_a1d8_a0a4c554f2a3row7_col0\" class=\"data row7 col0\" >100480235</td>\n",
       "                        <td id=\"T_87de5dc0_10a2_11ec_a1d8_a0a4c554f2a3row7_col1\" class=\"data row7 col1\" >URN:NBN:no-nb_digibok_2008040204082</td>\n",
       "                        <td id=\"T_87de5dc0_10a2_11ec_a1d8_a0a4c554f2a3row7_col2\" class=\"data row7 col2\" >... Og Ola Aakre kom seilende ud igen og fandt frem lik-svøbet til gamle Ingjel ; tausen hadde sparet det til sig , for <b>hun</b> vilde ha... </td>\n",
       "            </tr>\n",
       "            <tr>\n",
       "                        <th id=\"T_87de5dc0_10a2_11ec_a1d8_a0a4c554f2a3level0_row8\" class=\"row_heading level0 row8\" >16560</th>\n",
       "                        <td id=\"T_87de5dc0_10a2_11ec_a1d8_a0a4c554f2a3row8_col0\" class=\"data row8 col0\" >100091210</td>\n",
       "                        <td id=\"T_87de5dc0_10a2_11ec_a1d8_a0a4c554f2a3row8_col1\" class=\"data row8 col1\" >URN:NBN:no-nb_digibok_2012050808071</td>\n",
       "                        <td id=\"T_87de5dc0_10a2_11ec_a1d8_a0a4c554f2a3row8_col2\" class=\"data row8 col2\" >... mens <b>hun</b> tørrer Støv paa en Etagére , hvorpaa staar en Masse smaa intetsigende Nipsgjenstande af forskjellig Slags .</td>\n",
       "            </tr>\n",
       "            <tr>\n",
       "                        <th id=\"T_87de5dc0_10a2_11ec_a1d8_a0a4c554f2a3level0_row9\" class=\"row_heading level0 row9\" >36333</th>\n",
       "                        <td id=\"T_87de5dc0_10a2_11ec_a1d8_a0a4c554f2a3row9_col0\" class=\"data row9 col0\" >100488418</td>\n",
       "                        <td id=\"T_87de5dc0_10a2_11ec_a1d8_a0a4c554f2a3row9_col1\" class=\"data row9 col1\" >URN:NBN:no-nb_digibok_2011102524038</td>\n",
       "                        <td id=\"T_87de5dc0_10a2_11ec_a1d8_a0a4c554f2a3row9_col2\" class=\"data row9 col2\" >Var der da stel ingen Mulighed for , nt <b>hun</b> formnnede nt bryde denne Troldomsmngt , forn han svede over hmde ?</td>\n",
       "            </tr>\n",
       "            <tr>\n",
       "                        <th id=\"T_87de5dc0_10a2_11ec_a1d8_a0a4c554f2a3level0_row10\" class=\"row_heading level0 row10\" >36402</th>\n",
       "                        <td id=\"T_87de5dc0_10a2_11ec_a1d8_a0a4c554f2a3row10_col0\" class=\"data row10 col0\" >100488418</td>\n",
       "                        <td id=\"T_87de5dc0_10a2_11ec_a1d8_a0a4c554f2a3row10_col1\" class=\"data row10 col1\" >URN:NBN:no-nb_digibok_2011102524038</td>\n",
       "                        <td id=\"T_87de5dc0_10a2_11ec_a1d8_a0a4c554f2a3row10_col2\" class=\"data row10 col2\" >Der spillete et triumferende Smil paa hendes Leder , da <b>hun</b> faa Arnold Hafeell og <b>hun</b> mumlede :</td>\n",
       "            </tr>\n",
       "            <tr>\n",
       "                        <th id=\"T_87de5dc0_10a2_11ec_a1d8_a0a4c554f2a3level0_row11\" class=\"row_heading level0 row11\" >27852</th>\n",
       "                        <td id=\"T_87de5dc0_10a2_11ec_a1d8_a0a4c554f2a3row11_col0\" class=\"data row11 col0\" >100506513</td>\n",
       "                        <td id=\"T_87de5dc0_10a2_11ec_a1d8_a0a4c554f2a3row11_col1\" class=\"data row11 col1\" >URN:NBN:no-nb_digibok_2011081120002</td>\n",
       "                        <td id=\"T_87de5dc0_10a2_11ec_a1d8_a0a4c554f2a3row11_col2\" class=\"data row11 col2\" >Og det siger jeg dig , Mor . <b>hun</b> vil hellerikke nole med at tåge tiltakke med — — \"</td>\n",
       "            </tr>\n",
       "            <tr>\n",
       "                        <th id=\"T_87de5dc0_10a2_11ec_a1d8_a0a4c554f2a3level0_row12\" class=\"row_heading level0 row12\" >33400</th>\n",
       "                        <td id=\"T_87de5dc0_10a2_11ec_a1d8_a0a4c554f2a3row12_col0\" class=\"data row12 col0\" >100488510</td>\n",
       "                        <td id=\"T_87de5dc0_10a2_11ec_a1d8_a0a4c554f2a3row12_col1\" class=\"data row12 col1\" >URN:NBN:no-nb_digibok_2011121224002</td>\n",
       "                        <td id=\"T_87de5dc0_10a2_11ec_a1d8_a0a4c554f2a3row12_col2\" class=\"data row12 col2\" >Fyrstinden , forn aldrig havde holdt af lange Forlovelser , onstede det saa og til Tatjanas store Forbauselse vilde <b>hun</b> , ot Bryllupct stulde finde sted i stor... </td>\n",
       "            </tr>\n",
       "            <tr>\n",
       "                        <th id=\"T_87de5dc0_10a2_11ec_a1d8_a0a4c554f2a3level0_row13\" class=\"row_heading level0 row13\" >23503</th>\n",
       "                        <td id=\"T_87de5dc0_10a2_11ec_a1d8_a0a4c554f2a3row13_col0\" class=\"data row13 col0\" >100005119</td>\n",
       "                        <td id=\"T_87de5dc0_10a2_11ec_a1d8_a0a4c554f2a3row13_col1\" class=\"data row13 col1\" >URN:NBN:no-nb_digibok_2010051906058</td>\n",
       "                        <td id=\"T_87de5dc0_10a2_11ec_a1d8_a0a4c554f2a3row13_col2\" class=\"data row13 col2\" >... Bestemoren sad inde og spandt , havde sine egne tanker og nikkede stundom , som skulde det stå fast , det , <b>hun</b> tænkte . Da vidste gutten , han var... </td>\n",
       "            </tr>\n",
       "            <tr>\n",
       "                        <th id=\"T_87de5dc0_10a2_11ec_a1d8_a0a4c554f2a3level0_row14\" class=\"row_heading level0 row14\" >34953</th>\n",
       "                        <td id=\"T_87de5dc0_10a2_11ec_a1d8_a0a4c554f2a3row14_col0\" class=\"data row14 col0\" >100481686</td>\n",
       "                        <td id=\"T_87de5dc0_10a2_11ec_a1d8_a0a4c554f2a3row14_col1\" class=\"data row14 col1\" >URN:NBN:no-nb_digibok_2017040448012</td>\n",
       "                        <td id=\"T_87de5dc0_10a2_11ec_a1d8_a0a4c554f2a3row14_col2\" class=\"data row14 col2\" >... Da vi bleve alene , forklarede han sin Grund dertil . „ Forrige Uge gav jeg hende Penge til at kjFbe et Afladsbrev for , og <b>hun</b> tWte et... </td>\n",
       "            </tr>\n",
       "            <tr>\n",
       "                        <th id=\"T_87de5dc0_10a2_11ec_a1d8_a0a4c554f2a3level0_row15\" class=\"row_heading level0 row15\" >23069</th>\n",
       "                        <td id=\"T_87de5dc0_10a2_11ec_a1d8_a0a4c554f2a3row15_col0\" class=\"data row15 col0\" >100004273</td>\n",
       "                        <td id=\"T_87de5dc0_10a2_11ec_a1d8_a0a4c554f2a3row15_col1\" class=\"data row15 col1\" >URN:NBN:no-nb_digibok_2011072920009</td>\n",
       "                        <td id=\"T_87de5dc0_10a2_11ec_a1d8_a0a4c554f2a3row15_col2\" class=\"data row15 col2\" >not suit his hook ; <b>hun</b> tunde huve deveB — , he</td>\n",
       "            </tr>\n",
       "            <tr>\n",
       "                        <th id=\"T_87de5dc0_10a2_11ec_a1d8_a0a4c554f2a3level0_row16\" class=\"row_heading level0 row16\" >44064</th>\n",
       "                        <td id=\"T_87de5dc0_10a2_11ec_a1d8_a0a4c554f2a3row16_col0\" class=\"data row16 col0\" >100482654</td>\n",
       "                        <td id=\"T_87de5dc0_10a2_11ec_a1d8_a0a4c554f2a3row16_col1\" class=\"data row16 col1\" >URN:NBN:no-nb_digibok_2018010948500</td>\n",
       "                        <td id=\"T_87de5dc0_10a2_11ec_a1d8_a0a4c554f2a3row16_col2\" class=\"data row16 col2\" >... Men losva lod Rahab , den Skjoge , og hendes Faders Huus , og alt det , som hende Horte til , leve , og <b>hun</b> boede midt iblandt Israel indtil... </td>\n",
       "            </tr>\n",
       "            <tr>\n",
       "                        <th id=\"T_87de5dc0_10a2_11ec_a1d8_a0a4c554f2a3level0_row17\" class=\"row_heading level0 row17\" >20478</th>\n",
       "                        <td id=\"T_87de5dc0_10a2_11ec_a1d8_a0a4c554f2a3row17_col0\" class=\"data row17 col0\" >100053573</td>\n",
       "                        <td id=\"T_87de5dc0_10a2_11ec_a1d8_a0a4c554f2a3row17_col1\" class=\"data row17 col1\" >URN:NBN:no-nb_digibok_2011082520012</td>\n",
       "                        <td id=\"T_87de5dc0_10a2_11ec_a1d8_a0a4c554f2a3row17_col2\" class=\"data row17 col2\" >Det syntes , som om jeg havde git dronningen Kratchnins brev netop i det øjeblik , da <b>hun</b> var blet gjort bekjendt med det brev , som havde... </td>\n",
       "            </tr>\n",
       "            <tr>\n",
       "                        <th id=\"T_87de5dc0_10a2_11ec_a1d8_a0a4c554f2a3level0_row18\" class=\"row_heading level0 row18\" >7225</th>\n",
       "                        <td id=\"T_87de5dc0_10a2_11ec_a1d8_a0a4c554f2a3row18_col0\" class=\"data row18 col0\" >100216346</td>\n",
       "                        <td id=\"T_87de5dc0_10a2_11ec_a1d8_a0a4c554f2a3row18_col1\" class=\"data row18 col1\" >URN:NBN:no-nb_digibok_2009060410001</td>\n",
       "                        <td id=\"T_87de5dc0_10a2_11ec_a1d8_a0a4c554f2a3row18_col2\" class=\"data row18 col2\" >Hvorledes kunde <b>hun</b> slippe Svein og bryde sit løfte ? Hvordan kunde han bryde sit ? Havde han ikke forpligtelser ?</td>\n",
       "            </tr>\n",
       "            <tr>\n",
       "                        <th id=\"T_87de5dc0_10a2_11ec_a1d8_a0a4c554f2a3level0_row19\" class=\"row_heading level0 row19\" >39288</th>\n",
       "                        <td id=\"T_87de5dc0_10a2_11ec_a1d8_a0a4c554f2a3row19_col0\" class=\"data row19 col0\" >100480239</td>\n",
       "                        <td id=\"T_87de5dc0_10a2_11ec_a1d8_a0a4c554f2a3row19_col1\" class=\"data row19 col1\" >URN:NBN:no-nb_digibok_2008040204090</td>\n",
       "                        <td id=\"T_87de5dc0_10a2_11ec_a1d8_a0a4c554f2a3row19_col2\" class=\"data row19 col2\" >... Og <b>hun</b> forstod dem i sit hjærte : — der er saamange i verden som griber ligesom i vildelse og vil hænge sig paa slæb , i det... </td>\n",
       "            </tr>\n",
       "            <tr>\n",
       "                        <th id=\"T_87de5dc0_10a2_11ec_a1d8_a0a4c554f2a3level0_row20\" class=\"row_heading level0 row20\" >51297</th>\n",
       "                        <td id=\"T_87de5dc0_10a2_11ec_a1d8_a0a4c554f2a3row20_col0\" class=\"data row20 col0\" >100488487</td>\n",
       "                        <td id=\"T_87de5dc0_10a2_11ec_a1d8_a0a4c554f2a3row20_col1\" class=\"data row20 col1\" >URN:NBN:no-nb_digibok_2011120624001</td>\n",
       "                        <td id=\"T_87de5dc0_10a2_11ec_a1d8_a0a4c554f2a3row20_col2\" class=\"data row20 col2\" >... Han sagde den unge Pige saa mange Artigheder og vlcv staaende saa loenge ved heudes Vogn , ai <b>hun</b> allerede svcevede i Dodsangest for , at Larry... </td>\n",
       "            </tr>\n",
       "            <tr>\n",
       "                        <th id=\"T_87de5dc0_10a2_11ec_a1d8_a0a4c554f2a3level0_row21\" class=\"row_heading level0 row21\" >41158</th>\n",
       "                        <td id=\"T_87de5dc0_10a2_11ec_a1d8_a0a4c554f2a3row21_col0\" class=\"data row21 col0\" >100481532</td>\n",
       "                        <td id=\"T_87de5dc0_10a2_11ec_a1d8_a0a4c554f2a3row21_col1\" class=\"data row21 col1\" >URN:NBN:no-nb_digibok_2017022048527</td>\n",
       "                        <td id=\"T_87de5dc0_10a2_11ec_a1d8_a0a4c554f2a3row21_col2\" class=\"data row21 col2\" >... Fernand gjorde , som <b>hun</b> bad . „ Siden De er kommen fra Paris for min Skyld , \" sagde <b>hun</b> , „ maa De tillade mig at invitere Dem til Frokost... </td>\n",
       "            </tr>\n",
       "            <tr>\n",
       "                        <th id=\"T_87de5dc0_10a2_11ec_a1d8_a0a4c554f2a3level0_row22\" class=\"row_heading level0 row22\" >40048</th>\n",
       "                        <td id=\"T_87de5dc0_10a2_11ec_a1d8_a0a4c554f2a3row22_col0\" class=\"data row22 col0\" >100482926</td>\n",
       "                        <td id=\"T_87de5dc0_10a2_11ec_a1d8_a0a4c554f2a3row22_col1\" class=\"data row22 col1\" >URN:NBN:no-nb_digibok_2018040448039</td>\n",
       "                        <td id=\"T_87de5dc0_10a2_11ec_a1d8_a0a4c554f2a3row22_col2\" class=\"data row22 col2\" >... Hans Moder havde kaldt ham Ismael , fordi Herren havde seet hendes Elendighed ; men <b>hun</b> kunde ogsaa have kaldt ham Ismael , fordi alle Menneskers Haand var... </td>\n",
       "            </tr>\n",
       "            <tr>\n",
       "                        <th id=\"T_87de5dc0_10a2_11ec_a1d8_a0a4c554f2a3level0_row23\" class=\"row_heading level0 row23\" >30310</th>\n",
       "                        <td id=\"T_87de5dc0_10a2_11ec_a1d8_a0a4c554f2a3row23_col0\" class=\"data row23 col0\" >100503456</td>\n",
       "                        <td id=\"T_87de5dc0_10a2_11ec_a1d8_a0a4c554f2a3row23_col1\" class=\"data row23 col1\" >URN:NBN:no-nb_digibok_2009041403014</td>\n",
       "                        <td id=\"T_87de5dc0_10a2_11ec_a1d8_a0a4c554f2a3row23_col2\" class=\"data row23 col2\" >... Hvad så mere ? — Hvis <b>hun</b> kan og vil være vor veninde , på samme måde , som vor ven er vor ven , eller bedre — lar vi hende... </td>\n",
       "            </tr>\n",
       "            <tr>\n",
       "                        <th id=\"T_87de5dc0_10a2_11ec_a1d8_a0a4c554f2a3level0_row24\" class=\"row_heading level0 row24\" >20026</th>\n",
       "                        <td id=\"T_87de5dc0_10a2_11ec_a1d8_a0a4c554f2a3row24_col0\" class=\"data row24 col0\" >100050348</td>\n",
       "                        <td id=\"T_87de5dc0_10a2_11ec_a1d8_a0a4c554f2a3row24_col1\" class=\"data row24 col1\" >URN:NBN:no-nb_digibok_2011071220002</td>\n",
       "                        <td id=\"T_87de5dc0_10a2_11ec_a1d8_a0a4c554f2a3row24_col2\" class=\"data row24 col2\" >... Ole forstod henne , skjønt <b>hun</b> ikke røbet sig . Også til ham talte <b>hun</b> sjælden om Edvard uten som ~ æklingen « , « spirrevippen \" ~ kværna « o . s . v. Men... </td>\n",
       "            </tr>\n",
       "            <tr>\n",
       "                        <th id=\"T_87de5dc0_10a2_11ec_a1d8_a0a4c554f2a3level0_row25\" class=\"row_heading level0 row25\" >25835</th>\n",
       "                        <td id=\"T_87de5dc0_10a2_11ec_a1d8_a0a4c554f2a3row25_col0\" class=\"data row25 col0\" >100579284</td>\n",
       "                        <td id=\"T_87de5dc0_10a2_11ec_a1d8_a0a4c554f2a3row25_col1\" class=\"data row25 col1\" >URN:NBN:no-nb_digibok_2009032603014</td>\n",
       "                        <td id=\"T_87de5dc0_10a2_11ec_a1d8_a0a4c554f2a3row25_col2\" class=\"data row25 col2\" ><b>Hun</b> er bleven blind .</td>\n",
       "            </tr>\n",
       "            <tr>\n",
       "                        <th id=\"T_87de5dc0_10a2_11ec_a1d8_a0a4c554f2a3level0_row26\" class=\"row_heading level0 row26\" >22957</th>\n",
       "                        <td id=\"T_87de5dc0_10a2_11ec_a1d8_a0a4c554f2a3row26_col0\" class=\"data row26 col0\" >100009406</td>\n",
       "                        <td id=\"T_87de5dc0_10a2_11ec_a1d8_a0a4c554f2a3row26_col1\" class=\"data row26 col1\" >URN:NBN:no-nb_digibok_2010063006118</td>\n",
       "                        <td id=\"T_87de5dc0_10a2_11ec_a1d8_a0a4c554f2a3row26_col2\" class=\"data row26 col2\" >... Hendes Ord veiet meget , og det var stor Sandsynlighed for , at <b>hun</b> ikke vilde faa et afslaaende Svar . Det gjaldt</td>\n",
       "            </tr>\n",
       "            <tr>\n",
       "                        <th id=\"T_87de5dc0_10a2_11ec_a1d8_a0a4c554f2a3level0_row27\" class=\"row_heading level0 row27\" >10965</th>\n",
       "                        <td id=\"T_87de5dc0_10a2_11ec_a1d8_a0a4c554f2a3row27_col0\" class=\"data row27 col0\" >100335907</td>\n",
       "                        <td id=\"T_87de5dc0_10a2_11ec_a1d8_a0a4c554f2a3row27_col1\" class=\"data row27 col1\" >URN:NBN:no-nb_digibok_2017060248021</td>\n",
       "                        <td id=\"T_87de5dc0_10a2_11ec_a1d8_a0a4c554f2a3row27_col2\" class=\"data row27 col2\" >Men Kvinden frygtede og bævede , da <b>hun</b> vidste , hvad hende var skeet , og kom og faldt ned for ham og sagde ham al Sandheden . — Og... </td>\n",
       "            </tr>\n",
       "            <tr>\n",
       "                        <th id=\"T_87de5dc0_10a2_11ec_a1d8_a0a4c554f2a3level0_row28\" class=\"row_heading level0 row28\" >2267</th>\n",
       "                        <td id=\"T_87de5dc0_10a2_11ec_a1d8_a0a4c554f2a3row28_col0\" class=\"data row28 col0\" >100440153</td>\n",
       "                        <td id=\"T_87de5dc0_10a2_11ec_a1d8_a0a4c554f2a3row28_col1\" class=\"data row28 col1\" >URN:NBN:no-nb_digibok_2021040848504</td>\n",
       "                        <td id=\"T_87de5dc0_10a2_11ec_a1d8_a0a4c554f2a3row28_col2\" class=\"data row28 col2\" >... Fru Magna trykkede papiret krampagtig mod sit bryst . » Nei , nei ! « udbrød <b>hun</b> , » hvis De ikke har noget derimod , beholder jeg indtil videre dette papirs indhold... </td>\n",
       "            </tr>\n",
       "            <tr>\n",
       "                        <th id=\"T_87de5dc0_10a2_11ec_a1d8_a0a4c554f2a3level0_row29\" class=\"row_heading level0 row29\" >3714</th>\n",
       "                        <td id=\"T_87de5dc0_10a2_11ec_a1d8_a0a4c554f2a3row29_col0\" class=\"data row29 col0\" >100127669</td>\n",
       "                        <td id=\"T_87de5dc0_10a2_11ec_a1d8_a0a4c554f2a3row29_col1\" class=\"data row29 col1\" >URN:NBN:no-nb_digibok_2012112807036</td>\n",
       "                        <td id=\"T_87de5dc0_10a2_11ec_a1d8_a0a4c554f2a3row29_col2\" class=\"data row29 col2\" >Jeg maa nu først fortælle , at Nora og Lillemor var mormors to døtre . <b>Hun</b> kaldte dem</td>\n",
       "            </tr>\n",
       "            <tr>\n",
       "                        <th id=\"T_87de5dc0_10a2_11ec_a1d8_a0a4c554f2a3level0_row30\" class=\"row_heading level0 row30\" >48138</th>\n",
       "                        <td id=\"T_87de5dc0_10a2_11ec_a1d8_a0a4c554f2a3row30_col0\" class=\"data row30 col0\" >100497122</td>\n",
       "                        <td id=\"T_87de5dc0_10a2_11ec_a1d8_a0a4c554f2a3row30_col1\" class=\"data row30 col1\" >URN:NBN:no-nb_digibok_2009012803008</td>\n",
       "                        <td id=\"T_87de5dc0_10a2_11ec_a1d8_a0a4c554f2a3row30_col2\" class=\"data row30 col2\" >... Bruce , i fru Bruce , — nei , det begreb han ikke ! Og så skulde <b>hun</b> kanske blive hans nabo for livet — han vidste ei hvorfor , men han... </td>\n",
       "            </tr>\n",
       "            <tr>\n",
       "                        <th id=\"T_87de5dc0_10a2_11ec_a1d8_a0a4c554f2a3level0_row31\" class=\"row_heading level0 row31\" >27229</th>\n",
       "                        <td id=\"T_87de5dc0_10a2_11ec_a1d8_a0a4c554f2a3row31_col0\" class=\"data row31 col0\" >100578011</td>\n",
       "                        <td id=\"T_87de5dc0_10a2_11ec_a1d8_a0a4c554f2a3row31_col1\" class=\"data row31 col1\" >URN:NBN:no-nb_digibok_2009042412001</td>\n",
       "                        <td id=\"T_87de5dc0_10a2_11ec_a1d8_a0a4c554f2a3row31_col2\" class=\"data row31 col2\" >Skleros aflugde en hoitidelig Ed paa ei at robe , hvad <b>hun</b> vilde betro ham , og Keiferinden fortfatte : „ Det gjelder at bortfore en faare stjon Kvinde... </td>\n",
       "            </tr>\n",
       "            <tr>\n",
       "                        <th id=\"T_87de5dc0_10a2_11ec_a1d8_a0a4c554f2a3level0_row32\" class=\"row_heading level0 row32\" >7791</th>\n",
       "                        <td id=\"T_87de5dc0_10a2_11ec_a1d8_a0a4c554f2a3row32_col0\" class=\"data row32 col0\" >100350224</td>\n",
       "                        <td id=\"T_87de5dc0_10a2_11ec_a1d8_a0a4c554f2a3row32_col1\" class=\"data row32 col1\" >URN:NBN:no-nb_digibok_2017101048083</td>\n",
       "                        <td id=\"T_87de5dc0_10a2_11ec_a1d8_a0a4c554f2a3row32_col2\" class=\"data row32 col2\" >Saa mente mama , at siden Tulla skulde blive frue paa Haavardsholm , var det bedst , <b>hun</b> reiste til Hygestad en stund . Det var nyttigere end at... </td>\n",
       "            </tr>\n",
       "            <tr>\n",
       "                        <th id=\"T_87de5dc0_10a2_11ec_a1d8_a0a4c554f2a3level0_row33\" class=\"row_heading level0 row33\" >3545</th>\n",
       "                        <td id=\"T_87de5dc0_10a2_11ec_a1d8_a0a4c554f2a3row33_col0\" class=\"data row33 col0\" >100124469</td>\n",
       "                        <td id=\"T_87de5dc0_10a2_11ec_a1d8_a0a4c554f2a3row33_col1\" class=\"data row33 col1\" >URN:NBN:no-nb_digibok_2012121206224</td>\n",
       "                        <td id=\"T_87de5dc0_10a2_11ec_a1d8_a0a4c554f2a3row33_col2\" class=\"data row33 col2\" >... Det var den samme Frue , Pigen tidligere havde omtalt , med hvis Høiagtelse og glødende Kjærlighed <b>hun</b> havde smykket og adlet sin lille Person i de... </td>\n",
       "            </tr>\n",
       "            <tr>\n",
       "                        <th id=\"T_87de5dc0_10a2_11ec_a1d8_a0a4c554f2a3level0_row34\" class=\"row_heading level0 row34\" >24949</th>\n",
       "                        <td id=\"T_87de5dc0_10a2_11ec_a1d8_a0a4c554f2a3row34_col0\" class=\"data row34 col0\" >100578820</td>\n",
       "                        <td id=\"T_87de5dc0_10a2_11ec_a1d8_a0a4c554f2a3row34_col1\" class=\"data row34 col1\" >URN:NBN:no-nb_digibok_2010092803009</td>\n",
       "                        <td id=\"T_87de5dc0_10a2_11ec_a1d8_a0a4c554f2a3row34_col2\" class=\"data row34 col2\" >... Denne grcrd saa bitterlig , idet <b>hun</b> gik , at Slutteren ingen Mistanke fattede , men ansaae hende for en Beflcrgtet af Fangerne , og uden Vanskelighet » stap hende... </td>\n",
       "            </tr>\n",
       "            <tr>\n",
       "                        <th id=\"T_87de5dc0_10a2_11ec_a1d8_a0a4c554f2a3level0_row35\" class=\"row_heading level0 row35\" >4386</th>\n",
       "                        <td id=\"T_87de5dc0_10a2_11ec_a1d8_a0a4c554f2a3row35_col0\" class=\"data row35 col0\" >100165766</td>\n",
       "                        <td id=\"T_87de5dc0_10a2_11ec_a1d8_a0a4c554f2a3row35_col1\" class=\"data row35 col1\" >URN:NBN:no-nb_digibok_2013081906028</td>\n",
       "                        <td id=\"T_87de5dc0_10a2_11ec_a1d8_a0a4c554f2a3row35_col2\" class=\"data row35 col2\" >... Der boede <b>hun</b> i mange år , men da <b>hun</b> blev gammel og enke , og børnene var kommet ud i verden , fik <b>hun</b> længsel efter at... </td>\n",
       "            </tr>\n",
       "            <tr>\n",
       "                        <th id=\"T_87de5dc0_10a2_11ec_a1d8_a0a4c554f2a3level0_row36\" class=\"row_heading level0 row36\" >50770</th>\n",
       "                        <td id=\"T_87de5dc0_10a2_11ec_a1d8_a0a4c554f2a3row36_col0\" class=\"data row36 col0\" >100488487</td>\n",
       "                        <td id=\"T_87de5dc0_10a2_11ec_a1d8_a0a4c554f2a3row36_col1\" class=\"data row36 col1\" >URN:NBN:no-nb_digibok_2011120624001</td>\n",
       "                        <td id=\"T_87de5dc0_10a2_11ec_a1d8_a0a4c554f2a3row36_col2\" class=\"data row36 col2\" >~ Hvad synes De om Andamanerne ? \" spurgte <b>hun</b> .</td>\n",
       "            </tr>\n",
       "            <tr>\n",
       "                        <th id=\"T_87de5dc0_10a2_11ec_a1d8_a0a4c554f2a3level0_row37\" class=\"row_heading level0 row37\" >19469</th>\n",
       "                        <td id=\"T_87de5dc0_10a2_11ec_a1d8_a0a4c554f2a3row37_col0\" class=\"data row37 col0\" >100553645</td>\n",
       "                        <td id=\"T_87de5dc0_10a2_11ec_a1d8_a0a4c554f2a3row37_col1\" class=\"data row37 col1\" >URN:NBN:no-nb_digibok_2011111024025</td>\n",
       "                        <td id=\"T_87de5dc0_10a2_11ec_a1d8_a0a4c554f2a3row37_col2\" class=\"data row37 col2\" >I en halvt forvirret Fortvilelse saa <b>hun</b></td>\n",
       "            </tr>\n",
       "            <tr>\n",
       "                        <th id=\"T_87de5dc0_10a2_11ec_a1d8_a0a4c554f2a3level0_row38\" class=\"row_heading level0 row38\" >14612</th>\n",
       "                        <td id=\"T_87de5dc0_10a2_11ec_a1d8_a0a4c554f2a3row38_col0\" class=\"data row38 col0\" >100085145</td>\n",
       "                        <td id=\"T_87de5dc0_10a2_11ec_a1d8_a0a4c554f2a3row38_col1\" class=\"data row38 col1\" >URN:NBN:no-nb_digibok_2012041008145</td>\n",
       "                        <td id=\"T_87de5dc0_10a2_11ec_a1d8_a0a4c554f2a3row38_col2\" class=\"data row38 col2\" >... Bare det , at jeg fortalte hende , hvor glad jeg er i dig , gjorde , at <b>hun</b> tik Interesse for os . <b>Hun</b> lik mig til at skamme... </td>\n",
       "            </tr>\n",
       "            <tr>\n",
       "                        <th id=\"T_87de5dc0_10a2_11ec_a1d8_a0a4c554f2a3level0_row39\" class=\"row_heading level0 row39\" >25194</th>\n",
       "                        <td id=\"T_87de5dc0_10a2_11ec_a1d8_a0a4c554f2a3row39_col0\" class=\"data row39 col0\" >100570322</td>\n",
       "                        <td id=\"T_87de5dc0_10a2_11ec_a1d8_a0a4c554f2a3row39_col1\" class=\"data row39 col1\" >URN:NBN:no-nb_digibok_2009113013001</td>\n",
       "                        <td id=\"T_87de5dc0_10a2_11ec_a1d8_a0a4c554f2a3row39_col2\" class=\"data row39 col2\" >... Kvinden saa paa træet , og <b>hun</b> syntes at frugten var deilig . Saa tog <b>hun</b> af det og aad ; og <b>hun</b> gav ogsaa sin mand med... </td>\n",
       "            </tr>\n",
       "    </tbody></table>"
      ],
      "text/plain": [
       "<pandas.io.formats.style.Styler at 0x2cb9ab27a30>"
      ]
     },
     "execution_count": 186,
     "metadata": {},
     "output_type": "execute_result"
    }
   ],
   "source": [
    "c = d2.concordance(urns=list(corpus.urn.sample(1000)), words= \"NEAR(hun hun, 10)\")\n",
    "c.sample(min(len(c), 40)).style"
   ]
  }
 ],
 "metadata": {
  "kernelspec": {
   "display_name": "Python 3",
   "language": "python",
   "name": "python3"
  },
  "language_info": {
   "codemirror_mode": {
    "name": "ipython",
    "version": 3
   },
   "file_extension": ".py",
   "mimetype": "text/x-python",
   "name": "python",
   "nbconvert_exporter": "python",
   "pygments_lexer": "ipython3",
   "version": "3.8.3"
  }
 },
 "nbformat": 4,
 "nbformat_minor": 4
}
